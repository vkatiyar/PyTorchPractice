{
  "nbformat": 4,
  "nbformat_minor": 0,
  "metadata": {
    "kernelspec": {
      "display_name": "Python 3",
      "language": "python",
      "name": "python3"
    },
    "language_info": {
      "codemirror_mode": {
        "name": "ipython",
        "version": 3
      },
      "file_extension": ".py",
      "mimetype": "text/x-python",
      "name": "python",
      "nbconvert_exporter": "python",
      "pygments_lexer": "ipython3",
      "version": "3.8.5"
    },
    "colab": {
      "name": "01-tensor-operations.ipynb",
      "provenance": [],
      "include_colab_link": true
    }
  },
  "cells": [
    {
      "cell_type": "markdown",
      "metadata": {
        "id": "view-in-github",
        "colab_type": "text"
      },
      "source": [
        "<a href=\"https://colab.research.google.com/github/vkatiyar/PyTorchPractice/blob/main/01_tensor_operations.ipynb\" target=\"_parent\"><img src=\"https://colab.research.google.com/assets/colab-badge.svg\" alt=\"Open In Colab\"/></a>"
      ]
    },
    {
      "cell_type": "markdown",
      "metadata": {
        "id": "jmNwp6Df9sGT"
      },
      "source": [
        "# 5 important pytorch functions to work with the images\n",
        "\n",
        "An short introduction about PyTorch and about the chosen functions. \n",
        "\n",
        "- reshape\n",
        "- hstack\n",
        "- vstack\n",
        "- dstack\n",
        "- stack\n",
        "\n",
        "Before we begin, let's install and import PyTorch"
      ]
    },
    {
      "cell_type": "code",
      "metadata": {
        "id": "9gByo3DB9sGU",
        "colab": {
          "base_uri": "https://localhost:8080/"
        },
        "outputId": "7500b8a5-1113-4a19-8653-329ac141ec94"
      },
      "source": [
        "# Uncomment and run the appropriate command for your operating system, if required\n",
        "\n",
        "# Linux / Binder\n",
        "# !pip install numpy torch==1.7.0+cpu torchvision==0.8.1+cpu torchaudio==0.7.0 -f https://download.pytorch.org/whl/torch_stable.html\n",
        "\n",
        "# Windows\n",
        "# !pip install numpy torch==1.7.0+cpu torchvision==0.8.1+cpu torchaudio==0.7.0 -f https://download.pytorch.org/whl/torch_stable.html\n",
        "\n",
        "# MacOS\n",
        "!pip install numpy torch torchvision torchaudio"
      ],
      "execution_count": 1,
      "outputs": [
        {
          "output_type": "stream",
          "text": [
            "Requirement already satisfied: numpy in /usr/local/lib/python3.6/dist-packages (1.18.5)\n",
            "Requirement already satisfied: torch in /usr/local/lib/python3.6/dist-packages (1.7.0+cu101)\n",
            "Requirement already satisfied: torchvision in /usr/local/lib/python3.6/dist-packages (0.8.1+cu101)\n",
            "Requirement already satisfied: torchaudio in /usr/local/lib/python3.6/dist-packages (0.7.2)\n",
            "Requirement already satisfied: dataclasses in /usr/local/lib/python3.6/dist-packages (from torch) (0.8)\n",
            "Requirement already satisfied: typing-extensions in /usr/local/lib/python3.6/dist-packages (from torch) (3.7.4.3)\n",
            "Requirement already satisfied: future in /usr/local/lib/python3.6/dist-packages (from torch) (0.16.0)\n",
            "Requirement already satisfied: pillow>=4.1.1 in /usr/local/lib/python3.6/dist-packages (from torchvision) (7.0.0)\n"
          ],
          "name": "stdout"
        }
      ]
    },
    {
      "cell_type": "code",
      "metadata": {
        "id": "QvZn64wg9sGU"
      },
      "source": [
        "# Import torch and other required modules\n",
        "import torch\n",
        "import numpy as np"
      ],
      "execution_count": 2,
      "outputs": []
    },
    {
      "cell_type": "code",
      "metadata": {
        "id": "HiP2xldb_2g0"
      },
      "source": [
        "import matplotlib.pyplot as plt"
      ],
      "execution_count": 3,
      "outputs": []
    },
    {
      "cell_type": "markdown",
      "metadata": {
        "id": "jbexMV3d4TPb"
      },
      "source": [
        ""
      ]
    },
    {
      "cell_type": "markdown",
      "metadata": {
        "id": "jlrPLD0U9sGU"
      },
      "source": [
        "## Function 1 - torch.reshape\n",
        "\n",
        "```reshape``` function changes the shape of the input tensor into the given shape.\n",
        "\n",
        "\n",
        "Returns: return function return view(by using ```tensor.view```) that means the input tensor will not change itself and if not possible then it will return a copy by using continguous(```tensor.contiguous```) function. "
      ]
    },
    {
      "cell_type": "code",
      "metadata": {
        "id": "03v3fQaR9sGU",
        "colab": {
          "base_uri": "https://localhost:8080/"
        },
        "outputId": "6fe604ac-c758-45a4-e05f-9fe0f7981615"
      },
      "source": [
        "# Example 1 - working \n",
        "a = torch.tensor([[1, 2, 3, 4]])\n",
        "print(a.shape)\n"
      ],
      "execution_count": 4,
      "outputs": [
        {
          "output_type": "stream",
          "text": [
            "torch.Size([1, 4])\n"
          ],
          "name": "stdout"
        }
      ]
    },
    {
      "cell_type": "code",
      "metadata": {
        "id": "G4zNZWCHA66P",
        "colab": {
          "base_uri": "https://localhost:8080/"
        },
        "outputId": "af25cd3b-0add-4cd7-f28e-3e21b1afd978"
      },
      "source": [
        "b = a.reshape((2,2))\n",
        "print(\"Shape of b =\",b.shape)\n",
        "print(\"b = \", b)\n",
        "\n",
        "print(\"Shape of a =\",a.shape)\n",
        "print(\"a = \", a)\n"
      ],
      "execution_count": 5,
      "outputs": [
        {
          "output_type": "stream",
          "text": [
            "Shape of b = torch.Size([2, 2])\n",
            "b =  tensor([[1, 2],\n",
            "        [3, 4]])\n",
            "Shape of a = torch.Size([1, 4])\n",
            "a =  tensor([[1, 2, 3, 4]])\n"
          ],
          "name": "stdout"
        }
      ]
    },
    {
      "cell_type": "markdown",
      "metadata": {
        "id": "4ruWVzoZ9sGW"
      },
      "source": [
        "In the above example it can be seen that reshape function does not change the source tensor itself and return a view only. As 'b' has the reshaped tensor while a is still the same.  "
      ]
    },
    {
      "cell_type": "code",
      "metadata": {
        "id": "ZrnWA26D9sGW",
        "colab": {
          "base_uri": "https://localhost:8080/"
        },
        "outputId": "e2323b90-1dbd-40ef-d7af-a258cb0e80dc"
      },
      "source": [
        "# Example 2 - working\n",
        "a=a.reshape((4,1))\n",
        "print(\"reshaped =\",a)"
      ],
      "execution_count": 6,
      "outputs": [
        {
          "output_type": "stream",
          "text": [
            "reshaped = tensor([[1],\n",
            "        [2],\n",
            "        [3],\n",
            "        [4]])\n"
          ],
          "name": "stdout"
        }
      ]
    },
    {
      "cell_type": "markdown",
      "metadata": {
        "id": "kSUNJUI69sGW"
      },
      "source": [
        "So if we want to use reshape the tensor at it's own place then we should call like ``` a = a.reshape(shape=())``` "
      ]
    },
    {
      "cell_type": "code",
      "metadata": {
        "id": "1BcHZAVF9sGW",
        "colab": {
          "base_uri": "https://localhost:8080/",
          "height": 181
        },
        "outputId": "b61029cc-21f7-45e5-e045-12354e4d06de"
      },
      "source": [
        "# Example 3 - breaking (to illustrate when it breaks)\n",
        "print(a.reshape(3,2))"
      ],
      "execution_count": 7,
      "outputs": [
        {
          "output_type": "error",
          "ename": "RuntimeError",
          "evalue": "ignored",
          "traceback": [
            "\u001b[0;31m---------------------------------------------------------------------------\u001b[0m",
            "\u001b[0;31mRuntimeError\u001b[0m                              Traceback (most recent call last)",
            "\u001b[0;32m<ipython-input-7-df4821830da5>\u001b[0m in \u001b[0;36m<module>\u001b[0;34m()\u001b[0m\n\u001b[1;32m      1\u001b[0m \u001b[0;31m# Example 3 - breaking (to illustrate when it breaks)\u001b[0m\u001b[0;34m\u001b[0m\u001b[0;34m\u001b[0m\u001b[0;34m\u001b[0m\u001b[0m\n\u001b[0;32m----> 2\u001b[0;31m \u001b[0mprint\u001b[0m\u001b[0;34m(\u001b[0m\u001b[0ma\u001b[0m\u001b[0;34m.\u001b[0m\u001b[0mreshape\u001b[0m\u001b[0;34m(\u001b[0m\u001b[0;36m3\u001b[0m\u001b[0;34m,\u001b[0m\u001b[0;36m2\u001b[0m\u001b[0;34m)\u001b[0m\u001b[0;34m)\u001b[0m\u001b[0;34m\u001b[0m\u001b[0;34m\u001b[0m\u001b[0m\n\u001b[0m",
            "\u001b[0;31mRuntimeError\u001b[0m: shape '[3, 2]' is invalid for input of size 4"
          ]
        }
      ]
    },
    {
      "cell_type": "markdown",
      "metadata": {
        "id": "AGQbeySz9sGW"
      },
      "source": [
        "the given shape in the reshape function must match with the size of the tensor. Otherwise it will give an error for size mismatch. Like in case of above example the new shape is given as (3,2) which makes total size is 6, however the size of 'a' is just 4, this is why it will result into a runtime error."
      ]
    },
    {
      "cell_type": "markdown",
      "metadata": {
        "id": "oM7Ixw469sGW"
      },
      "source": [
        "Let's save our work using Jovian before continuing."
      ]
    },
    {
      "cell_type": "code",
      "metadata": {
        "id": "3XaIj26Q9sGW",
        "colab": {
          "base_uri": "https://localhost:8080/"
        },
        "outputId": "4b2a4326-3ea1-4165-8a13-9448ecba7f75"
      },
      "source": [
        "!pip install jovian --upgrade"
      ],
      "execution_count": 8,
      "outputs": [
        {
          "output_type": "stream",
          "text": [
            "Requirement already up-to-date: jovian in /usr/local/lib/python3.6/dist-packages (0.2.26)\n",
            "Requirement already satisfied, skipping upgrade: pyyaml in /usr/local/lib/python3.6/dist-packages (from jovian) (3.13)\n",
            "Requirement already satisfied, skipping upgrade: click in /usr/local/lib/python3.6/dist-packages (from jovian) (7.1.2)\n",
            "Requirement already satisfied, skipping upgrade: uuid in /usr/local/lib/python3.6/dist-packages (from jovian) (1.30)\n",
            "Requirement already satisfied, skipping upgrade: requests in /usr/local/lib/python3.6/dist-packages (from jovian) (2.23.0)\n",
            "Requirement already satisfied, skipping upgrade: urllib3!=1.25.0,!=1.25.1,<1.26,>=1.21.1 in /usr/local/lib/python3.6/dist-packages (from requests->jovian) (1.24.3)\n",
            "Requirement already satisfied, skipping upgrade: chardet<4,>=3.0.2 in /usr/local/lib/python3.6/dist-packages (from requests->jovian) (3.0.4)\n",
            "Requirement already satisfied, skipping upgrade: certifi>=2017.4.17 in /usr/local/lib/python3.6/dist-packages (from requests->jovian) (2020.12.5)\n",
            "Requirement already satisfied, skipping upgrade: idna<3,>=2.5 in /usr/local/lib/python3.6/dist-packages (from requests->jovian) (2.10)\n"
          ],
          "name": "stdout"
        }
      ]
    },
    {
      "cell_type": "code",
      "metadata": {
        "id": "kVTTsk6J9sGW"
      },
      "source": [
        "import jovian"
      ],
      "execution_count": 9,
      "outputs": []
    },
    {
      "cell_type": "code",
      "metadata": {
        "id": "ergNECCJ9sGW",
        "colab": {
          "base_uri": "https://localhost:8080/"
        },
        "outputId": "a0a34577-a615-424c-fd90-905c90b74226"
      },
      "source": [
        "jovian.commit(project='01-tensor-operations')"
      ],
      "execution_count": 10,
      "outputs": [
        {
          "output_type": "stream",
          "text": [
            "[jovian] Detected Colab notebook...\u001b[0m\n"
          ],
          "name": "stdout"
        },
        {
          "output_type": "stream",
          "text": [
            "\u001b[31m[jovian] Error: Colab File Id is not provided. Make sure to execute the cell where the Id is set.\u001b[0m\n"
          ],
          "name": "stderr"
        }
      ]
    },
    {
      "cell_type": "code",
      "metadata": {
        "id": "GuywGCNWFNjP",
        "outputId": "c716c1e2-2923-479b-91ac-6f8c08174ba2",
        "colab": {
          "base_uri": "https://localhost:8080/"
        }
      },
      "source": [
        "a1 = torch.arange(start=1, end=10)\n",
        "a2 = torch.arange(start=101, end=110)\n",
        "a3 = torch.arange(start=201, end=210)\n",
        "print(\"Size of tensor a1 = {}, a2 = {}, a3 = {}\".format(a1.size(),a2.size(),a3.size()))"
      ],
      "execution_count": 11,
      "outputs": [
        {
          "output_type": "stream",
          "text": [
            "Size of tensor a1 = torch.Size([9]), a2 = torch.Size([9]), a3 = torch.Size([9])\n"
          ],
          "name": "stdout"
        }
      ]
    },
    {
      "cell_type": "code",
      "metadata": {
        "id": "mFwZO0-SFNMV",
        "outputId": "aac2ab5c-6733-445a-f30a-2e8b88f4edd9",
        "colab": {
          "base_uri": "https://localhost:8080/",
          "height": 300
        }
      },
      "source": [
        "band1 = torch.tensor([[255,0,0],\n",
        "         [0,255,0],\n",
        "         [0,0,255],\n",
        "         [255,255,255]]) \n",
        "band2 = torch.tensor([[0,0,255],\n",
        "         [0,255,0],\n",
        "         [255,0,0],\n",
        "         [255,255,255]])\n",
        "band3 = torch.tensor([[0,255,0],\n",
        "         [0,255,0],\n",
        "         [0,255,0],\n",
        "         [255,255,255]])\n",
        "\n",
        "_,ax = plt.subplots(1,3,squeeze=True, figsize=(10,10))\n",
        "ax[0].set_title(band1.size())\n",
        "ax[0].imshow(band1,cmap = 'gray') \n",
        "ax[1].set_title(band2.size())\n",
        "ax[1].imshow(band2,cmap = 'gray') \n",
        "ax[2].set_title(band3.size())  \n",
        "ax[2].imshow(band3,cmap = 'gray')  "
      ],
      "execution_count": 12,
      "outputs": [
        {
          "output_type": "execute_result",
          "data": {
            "text/plain": [
              "<matplotlib.image.AxesImage at 0x7fc541717358>"
            ]
          },
          "metadata": {
            "tags": []
          },
          "execution_count": 12
        },
        {
          "output_type": "display_data",
          "data": {
            "image/png": "[encoded data removed]",
            "text/plain": [
              "<Figure size 720x720 with 3 Axes>"
            ]
          },
          "metadata": {
            "tags": [],
            "needs_background": "light"
          }
        }
      ]
    },
    {
      "cell_type": "markdown",
      "metadata": {
        "id": "4v1Tu5_n9sGW"
      },
      "source": [
        "## Function 2 - hstack\n",
        "\n",
        "```hstack``` is used to stack the given tensor horizontally or on axis-1 in case multi-dimentional tensor. In case of one dimentional array it will stack on it's only axis available."
      ]
    },
    {
      "cell_type": "code",
      "metadata": {
        "id": "Y5j3CE859sGW",
        "colab": {
          "base_uri": "https://localhost:8080/"
        },
        "outputId": "41299639-1123-49e7-853d-d19e55ad913f"
      },
      "source": [
        "# Example 1 - working\n",
        "arr = torch.hstack((a1,a2,a3))\n",
        "print(\"Array after stacking all three bands using hstack => \", arr.size())  \n",
        "print(arr)                     "
      ],
      "execution_count": 13,
      "outputs": [
        {
          "output_type": "stream",
          "text": [
            "Array after stacking all three bands using hstack =>  torch.Size([27])\n",
            "tensor([  1,   2,   3,   4,   5,   6,   7,   8,   9, 101, 102, 103, 104, 105,\n",
            "        106, 107, 108, 109, 201, 202, 203, 204, 205, 206, 207, 208, 209])\n"
          ],
          "name": "stdout"
        }
      ]
    },
    {
      "cell_type": "markdown",
      "metadata": {
        "id": "kibs-CEw9sGW"
      },
      "source": [
        "In case of above example, the tensor remains of the same dimention but the total values in the row has been the result of concatenatenation of all the three tensors sequentially. "
      ]
    },
    {
      "cell_type": "code",
      "metadata": {
        "id": "0VrhwNFM9sGW",
        "colab": {
          "base_uri": "https://localhost:8080/",
          "height": 402
        },
        "outputId": "93ed23fd-31ab-4a03-dd69-26ede69c030b"
      },
      "source": [
        "# Example 2 - working\n",
        "arr = torch.hstack((band1,band2,band3))\n",
        "print(\"Array after stacking all three bands using hstack => \", arr.size())\n",
        "print(arr)\n",
        "plt.figure(figsize=(10,10))\n",
        "plt.imshow(arr,cmap='gray')"
      ],
      "execution_count": 14,
      "outputs": [
        {
          "output_type": "stream",
          "text": [
            "Array after stacking all three bands using hstack =>  torch.Size([4, 9])\n",
            "tensor([[255,   0,   0,   0,   0, 255,   0, 255,   0],\n",
            "        [  0, 255,   0,   0, 255,   0,   0, 255,   0],\n",
            "        [  0,   0, 255, 255,   0,   0,   0, 255,   0],\n",
            "        [255, 255, 255, 255, 255, 255, 255, 255, 255]])\n"
          ],
          "name": "stdout"
        },
        {
          "output_type": "execute_result",
          "data": {
            "text/plain": [
              "<matplotlib.image.AxesImage at 0x7fc54168d6a0>"
            ]
          },
          "metadata": {
            "tags": []
          },
          "execution_count": 14
        },
        {
          "output_type": "display_data",
          "data": {
            "image/png": "[encoded data removed]",
            "text/plain": [
              "<Figure size 720x720 with 1 Axes>"
            ]
          },
          "metadata": {
            "tags": [],
            "needs_background": "light"
          }
        }
      ]
    },
    {
      "cell_type": "markdown",
      "metadata": {
        "id": "XqEwf6oN9sGW"
      },
      "source": [
        "Explanation:\n",
        " the output of the ```hstack``` is horizontal stacking of the arrays along the first axis. In case of a metrix this can be understood as stacking along  the rows. This is why the number of rows remains same but number of columns increases."
      ]
    },
    {
      "cell_type": "code",
      "metadata": {
        "id": "bDWwd3LW9sGW",
        "outputId": "957a2ee7-e33d-4830-c25d-cb7c63cd3d4d",
        "colab": {
          "base_uri": "https://localhost:8080/",
          "height": 266
        }
      },
      "source": [
        "# Example 3 - breaking (to illustrate when it breaks)\n",
        "reshaped_band1 = band1.reshape(3,4)\n",
        "print(\"Reshaped tensor size = \", reshaped_band1.size())\n",
        "print( \"Other tensor's size =\",band2.size(),band3.size())\n",
        "arr = torch.hstack((reshaped_band1,band2,band3))\n",
        "\n",
        "# print(\"Array after stacking all three bands using hstack => \", arr.size())\n",
        "# plt.figure(figsize=(10,10))\n",
        "# plt.imshow(arr,cmap='gray')"
      ],
      "execution_count": 15,
      "outputs": [
        {
          "output_type": "stream",
          "text": [
            "Reshaped tensor size =  torch.Size([3, 4])\n",
            "Other tensor's size = torch.Size([4, 3]) torch.Size([4, 3])\n"
          ],
          "name": "stdout"
        },
        {
          "output_type": "error",
          "ename": "RuntimeError",
          "evalue": "ignored",
          "traceback": [
            "\u001b[0;31m---------------------------------------------------------------------------\u001b[0m",
            "\u001b[0;31mRuntimeError\u001b[0m                              Traceback (most recent call last)",
            "\u001b[0;32m<ipython-input-15-9789c7ccecde>\u001b[0m in \u001b[0;36m<module>\u001b[0;34m()\u001b[0m\n\u001b[1;32m      3\u001b[0m \u001b[0mprint\u001b[0m\u001b[0;34m(\u001b[0m\u001b[0;34m\"Reshaped tensor size = \"\u001b[0m\u001b[0;34m,\u001b[0m \u001b[0mreshaped_band1\u001b[0m\u001b[0;34m.\u001b[0m\u001b[0msize\u001b[0m\u001b[0;34m(\u001b[0m\u001b[0;34m)\u001b[0m\u001b[0;34m)\u001b[0m\u001b[0;34m\u001b[0m\u001b[0;34m\u001b[0m\u001b[0m\n\u001b[1;32m      4\u001b[0m \u001b[0mprint\u001b[0m\u001b[0;34m(\u001b[0m \u001b[0;34m\"Other tensor's size =\"\u001b[0m\u001b[0;34m,\u001b[0m\u001b[0mband2\u001b[0m\u001b[0;34m.\u001b[0m\u001b[0msize\u001b[0m\u001b[0;34m(\u001b[0m\u001b[0;34m)\u001b[0m\u001b[0;34m,\u001b[0m\u001b[0mband3\u001b[0m\u001b[0;34m.\u001b[0m\u001b[0msize\u001b[0m\u001b[0;34m(\u001b[0m\u001b[0;34m)\u001b[0m\u001b[0;34m)\u001b[0m\u001b[0;34m\u001b[0m\u001b[0;34m\u001b[0m\u001b[0m\n\u001b[0;32m----> 5\u001b[0;31m \u001b[0marr\u001b[0m \u001b[0;34m=\u001b[0m \u001b[0mtorch\u001b[0m\u001b[0;34m.\u001b[0m\u001b[0mhstack\u001b[0m\u001b[0;34m(\u001b[0m\u001b[0;34m(\u001b[0m\u001b[0mreshaped_band1\u001b[0m\u001b[0;34m,\u001b[0m\u001b[0mband2\u001b[0m\u001b[0;34m,\u001b[0m\u001b[0mband3\u001b[0m\u001b[0;34m)\u001b[0m\u001b[0;34m)\u001b[0m\u001b[0;34m\u001b[0m\u001b[0;34m\u001b[0m\u001b[0m\n\u001b[0m\u001b[1;32m      6\u001b[0m \u001b[0;34m\u001b[0m\u001b[0m\n\u001b[1;32m      7\u001b[0m \u001b[0;31m# print(\"Array after stacking all three bands using hstack => \", arr.size())\u001b[0m\u001b[0;34m\u001b[0m\u001b[0;34m\u001b[0m\u001b[0;34m\u001b[0m\u001b[0m\n",
            "\u001b[0;31mRuntimeError\u001b[0m: Sizes of tensors must match except in dimension 1. Got 3 and 4 in dimension 0 (The offending index is 1)"
          ]
        }
      ]
    },
    {
      "cell_type": "markdown",
      "metadata": {
        "id": "weqTFhJg9sGW"
      },
      "source": [
        "Explanation:\n",
        "Reshaped tensor has 3 rows while other tensor has 4 rows, and as explained above, the ```hstack``` needs common first axis along which it stacked the arrays. In absence of this, it will genrate ```RuntimeError```. "
      ]
    },
    {
      "cell_type": "code",
      "metadata": {
        "id": "KoT8VY079sGW"
      },
      "source": [
        "jovian.commit(project='01-tensor-operations')"
      ],
      "execution_count": null,
      "outputs": []
    },
    {
      "cell_type": "markdown",
      "metadata": {
        "id": "5Hxsk3oo9sGX"
      },
      "source": [
        "## Function 3 - vstack\n",
        "\n",
        "Rowwise concatenation of the tensors."
      ]
    },
    {
      "cell_type": "code",
      "metadata": {
        "id": "Y2WppuqX9sGX"
      },
      "source": [
        "# Example 1 - working\n",
        "arr = torch.vstack((a1,a2,a3))\n",
        "print(\"Array after stacking all three bands using hstack => \", arr.size())  \n",
        "print(arr)  "
      ],
      "execution_count": null,
      "outputs": []
    },
    {
      "cell_type": "code",
      "metadata": {
        "id": "COY7wNyUCBUN"
      },
      "source": [
        "# Example 2 - working\n",
        "arr = torch.vstack((band1,band2,band3))\n",
        "print(\"Array after stacking all three bands using hstack => \", arr.size())\n",
        "plt.figure(figsize=(10,10))\n",
        "plt.imshow(arr,cmap='gray')"
      ],
      "execution_count": null,
      "outputs": []
    },
    {
      "cell_type": "markdown",
      "metadata": {
        "id": "GXWrYo3i9sGX"
      },
      "source": [
        "Explanation about example"
      ]
    },
    {
      "cell_type": "code",
      "metadata": {
        "id": "PljZdKKz9sGX",
        "outputId": "68ccf503-99f7-49b3-9973-7f0b5b1a6e64",
        "colab": {
          "base_uri": "https://localhost:8080/",
          "height": 232
        }
      },
      "source": [
        "# Example 3 - breaking (to illustrate when it breaks)\n",
        "reshaped_band1 = band1.reshape(3,4)\n",
        "print(\"Reshaped tensor size = \", reshaped_band1.size())\n",
        "print( \"Other tensor's size =\",band2.size(),band3.size())\n",
        "arr = torch.vstack((reshaped_band1,band2,band3))"
      ],
      "execution_count": 16,
      "outputs": [
        {
          "output_type": "stream",
          "text": [
            "Reshaped tensor size =  torch.Size([3, 4])\n",
            "Other tensor's size = torch.Size([4, 3]) torch.Size([4, 3])\n"
          ],
          "name": "stdout"
        },
        {
          "output_type": "error",
          "ename": "RuntimeError",
          "evalue": "ignored",
          "traceback": [
            "\u001b[0;31m---------------------------------------------------------------------------\u001b[0m",
            "\u001b[0;31mRuntimeError\u001b[0m                              Traceback (most recent call last)",
            "\u001b[0;32m<ipython-input-16-2ca2eb2fa3ae>\u001b[0m in \u001b[0;36m<module>\u001b[0;34m()\u001b[0m\n\u001b[1;32m      3\u001b[0m \u001b[0mprint\u001b[0m\u001b[0;34m(\u001b[0m\u001b[0;34m\"Reshaped tensor size = \"\u001b[0m\u001b[0;34m,\u001b[0m \u001b[0mreshaped_band1\u001b[0m\u001b[0;34m.\u001b[0m\u001b[0msize\u001b[0m\u001b[0;34m(\u001b[0m\u001b[0;34m)\u001b[0m\u001b[0;34m)\u001b[0m\u001b[0;34m\u001b[0m\u001b[0;34m\u001b[0m\u001b[0m\n\u001b[1;32m      4\u001b[0m \u001b[0mprint\u001b[0m\u001b[0;34m(\u001b[0m \u001b[0;34m\"Other tensor's size =\"\u001b[0m\u001b[0;34m,\u001b[0m\u001b[0mband2\u001b[0m\u001b[0;34m.\u001b[0m\u001b[0msize\u001b[0m\u001b[0;34m(\u001b[0m\u001b[0;34m)\u001b[0m\u001b[0;34m,\u001b[0m\u001b[0mband3\u001b[0m\u001b[0;34m.\u001b[0m\u001b[0msize\u001b[0m\u001b[0;34m(\u001b[0m\u001b[0;34m)\u001b[0m\u001b[0;34m)\u001b[0m\u001b[0;34m\u001b[0m\u001b[0;34m\u001b[0m\u001b[0m\n\u001b[0;32m----> 5\u001b[0;31m \u001b[0marr\u001b[0m \u001b[0;34m=\u001b[0m \u001b[0mtorch\u001b[0m\u001b[0;34m.\u001b[0m\u001b[0mvstack\u001b[0m\u001b[0;34m(\u001b[0m\u001b[0;34m(\u001b[0m\u001b[0mreshaped_band1\u001b[0m\u001b[0;34m,\u001b[0m\u001b[0mband2\u001b[0m\u001b[0;34m,\u001b[0m\u001b[0mband3\u001b[0m\u001b[0;34m)\u001b[0m\u001b[0;34m)\u001b[0m\u001b[0;34m\u001b[0m\u001b[0;34m\u001b[0m\u001b[0m\n\u001b[0m",
            "\u001b[0;31mRuntimeError\u001b[0m: Sizes of tensors must match except in dimension 0. Got 4 and 3 in dimension 1 (The offending index is 1)"
          ]
        }
      ]
    },
    {
      "cell_type": "markdown",
      "metadata": {
        "id": "-hcC_jF09sGX"
      },
      "source": [
        "Explanation about example"
      ]
    },
    {
      "cell_type": "markdown",
      "metadata": {
        "id": "TDe_b-kD9sGX"
      },
      "source": [
        "Closing comments about when to use this function"
      ]
    },
    {
      "cell_type": "code",
      "metadata": {
        "id": "oqZyGT8Z9sGX",
        "outputId": "22ec15b1-b8c5-4fb6-e4a8-e233cc567532",
        "colab": {
          "base_uri": "https://localhost:8080/"
        }
      },
      "source": [
        "jovian.commit(project='01-tensor-operations')"
      ],
      "execution_count": 17,
      "outputs": [
        {
          "output_type": "stream",
          "text": [
            "[jovian] Detected Colab notebook...\u001b[0m\n"
          ],
          "name": "stdout"
        },
        {
          "output_type": "stream",
          "text": [
            "\u001b[31m[jovian] Error: Colab File Id is not provided. Make sure to execute the cell where the Id is set.\u001b[0m\n"
          ],
          "name": "stderr"
        }
      ]
    },
    {
      "cell_type": "markdown",
      "metadata": {
        "id": "VttzFINt9sGX"
      },
      "source": [
        "## Function 4 - dstack\n",
        "\n",
        "Depthwise concatenation. or stacking along the third axis."
      ]
    },
    {
      "cell_type": "code",
      "metadata": {
        "id": "Eqm7ABm89sGX",
        "outputId": "cc86b0f0-0c87-404d-d1a0-74dbd299bfae",
        "colab": {
          "base_uri": "https://localhost:8080/"
        }
      },
      "source": [
        "# Example 1 - working\n",
        "arr = torch.dstack((a1,a2,a3))\n",
        "print(\"Array after stacking all three bands using hstack => \", arr.size())  \n",
        "print(arr) "
      ],
      "execution_count": 18,
      "outputs": [
        {
          "output_type": "stream",
          "text": [
            "Array after stacking all three bands using hstack =>  torch.Size([1, 9, 3])\n",
            "tensor([[[  1, 101, 201],\n",
            "         [  2, 102, 202],\n",
            "         [  3, 103, 203],\n",
            "         [  4, 104, 204],\n",
            "         [  5, 105, 205],\n",
            "         [  6, 106, 206],\n",
            "         [  7, 107, 207],\n",
            "         [  8, 108, 208],\n",
            "         [  9, 109, 209]]])\n"
          ],
          "name": "stdout"
        }
      ]
    },
    {
      "cell_type": "markdown",
      "metadata": {
        "id": "xGbrkHaR9sGX"
      },
      "source": [
        "**Explanation** \n",
        "Example with the 1-D array. We can see here that shape of the tensor has been changed to 3-D, while in case of ```hstack, vstack``` it has been changed to 2-D. "
      ]
    },
    {
      "cell_type": "code",
      "metadata": {
        "id": "gV4HsKJC9sGX",
        "outputId": "5ad7b0f8-e63f-488d-b85d-9ef45f39e816",
        "colab": {
          "base_uri": "https://localhost:8080/",
          "height": 885
        }
      },
      "source": [
        "# Example 2 - working\n",
        "arr = torch.dstack((band1,band2,band3))\n",
        "print(\"Array after stacking all three bands using hstack => \", arr.size())\n",
        "print(arr)\n",
        "plt.figure(figsize=(10,10))\n",
        "plt.imshow(arr,cmap='gray')"
      ],
      "execution_count": 19,
      "outputs": [
        {
          "output_type": "stream",
          "text": [
            "Array after stacking all three bands using hstack =>  torch.Size([4, 3, 3])\n",
            "tensor([[[255,   0,   0],\n",
            "         [  0,   0, 255],\n",
            "         [  0, 255,   0]],\n",
            "\n",
            "        [[  0,   0,   0],\n",
            "         [255, 255, 255],\n",
            "         [  0,   0,   0]],\n",
            "\n",
            "        [[  0, 255,   0],\n",
            "         [  0,   0, 255],\n",
            "         [255,   0,   0]],\n",
            "\n",
            "        [[255, 255, 255],\n",
            "         [255, 255, 255],\n",
            "         [255, 255, 255]]])\n"
          ],
          "name": "stdout"
        },
        {
          "output_type": "execute_result",
          "data": {
            "text/plain": [
              "<matplotlib.image.AxesImage at 0x7fc54115f128>"
            ]
          },
          "metadata": {
            "tags": []
          },
          "execution_count": 19
        },
        {
          "output_type": "display_data",
          "data": {
            "image/png": "[encoded data removed]",
            "text/plain": [
              "<Figure size 720x720 with 1 Axes>"
            ]
          },
          "metadata": {
            "tags": [],
            "needs_background": "light"
          }
        }
      ]
    },
    {
      "cell_type": "markdown",
      "metadata": {
        "id": "wMPDNx5C9sGX"
      },
      "source": [
        "Explanation: \n",
        "\n",
        "Example with the 2-D array."
      ]
    },
    {
      "cell_type": "code",
      "metadata": {
        "id": "4MEb83_l9sGX",
        "outputId": "8e9cfb23-1fde-4b9d-dfa1-1215c66df0d4",
        "colab": {
          "base_uri": "https://localhost:8080/",
          "height": 232
        }
      },
      "source": [
        "# Example 3 - breaking (to illustrate when it breaks)\n",
        "reshaped_band1 = band1.reshape(3,4)\n",
        "print(\"Reshaped tensor size = \", reshaped_band1.size())\n",
        "print( \"Other tensor's size =\",band2.size(),band3.size())\n",
        "arr = torch.dstack((reshaped_band1,band2,band3))"
      ],
      "execution_count": 20,
      "outputs": [
        {
          "output_type": "stream",
          "text": [
            "Reshaped tensor size =  torch.Size([3, 4])\n",
            "Other tensor's size = torch.Size([4, 3]) torch.Size([4, 3])\n"
          ],
          "name": "stdout"
        },
        {
          "output_type": "error",
          "ename": "RuntimeError",
          "evalue": "ignored",
          "traceback": [
            "\u001b[0;31m---------------------------------------------------------------------------\u001b[0m",
            "\u001b[0;31mRuntimeError\u001b[0m                              Traceback (most recent call last)",
            "\u001b[0;32m<ipython-input-20-c78808c8c883>\u001b[0m in \u001b[0;36m<module>\u001b[0;34m()\u001b[0m\n\u001b[1;32m      3\u001b[0m \u001b[0mprint\u001b[0m\u001b[0;34m(\u001b[0m\u001b[0;34m\"Reshaped tensor size = \"\u001b[0m\u001b[0;34m,\u001b[0m \u001b[0mreshaped_band1\u001b[0m\u001b[0;34m.\u001b[0m\u001b[0msize\u001b[0m\u001b[0;34m(\u001b[0m\u001b[0;34m)\u001b[0m\u001b[0;34m)\u001b[0m\u001b[0;34m\u001b[0m\u001b[0;34m\u001b[0m\u001b[0m\n\u001b[1;32m      4\u001b[0m \u001b[0mprint\u001b[0m\u001b[0;34m(\u001b[0m \u001b[0;34m\"Other tensor's size =\"\u001b[0m\u001b[0;34m,\u001b[0m\u001b[0mband2\u001b[0m\u001b[0;34m.\u001b[0m\u001b[0msize\u001b[0m\u001b[0;34m(\u001b[0m\u001b[0;34m)\u001b[0m\u001b[0;34m,\u001b[0m\u001b[0mband3\u001b[0m\u001b[0;34m.\u001b[0m\u001b[0msize\u001b[0m\u001b[0;34m(\u001b[0m\u001b[0;34m)\u001b[0m\u001b[0;34m)\u001b[0m\u001b[0;34m\u001b[0m\u001b[0;34m\u001b[0m\u001b[0m\n\u001b[0;32m----> 5\u001b[0;31m \u001b[0marr\u001b[0m \u001b[0;34m=\u001b[0m \u001b[0mtorch\u001b[0m\u001b[0;34m.\u001b[0m\u001b[0mdstack\u001b[0m\u001b[0;34m(\u001b[0m\u001b[0;34m(\u001b[0m\u001b[0mreshaped_band1\u001b[0m\u001b[0;34m,\u001b[0m\u001b[0mband2\u001b[0m\u001b[0;34m,\u001b[0m\u001b[0mband3\u001b[0m\u001b[0;34m)\u001b[0m\u001b[0;34m)\u001b[0m\u001b[0;34m\u001b[0m\u001b[0;34m\u001b[0m\u001b[0m\n\u001b[0m",
            "\u001b[0;31mRuntimeError\u001b[0m: Sizes of tensors must match except in dimension 2. Got 3 and 4 in dimension 0 (The offending index is 1)"
          ]
        }
      ]
    },
    {
      "cell_type": "markdown",
      "metadata": {
        "id": "m84T5jqn9sGX"
      },
      "source": [
        "Explanation about example"
      ]
    },
    {
      "cell_type": "markdown",
      "metadata": {
        "id": "CwdA0RjG9sGX"
      },
      "source": [
        "Closing comments about when to use this function"
      ]
    },
    {
      "cell_type": "code",
      "metadata": {
        "id": "pY7Y2XIs9sGX",
        "outputId": "1b051863-9d4e-4dd5-e05a-1374fe3ce91a",
        "colab": {
          "base_uri": "https://localhost:8080/"
        }
      },
      "source": [
        "jovian.commit(project='01-tensor-operations')"
      ],
      "execution_count": 21,
      "outputs": [
        {
          "output_type": "stream",
          "text": [
            "[jovian] Detected Colab notebook...\u001b[0m\n"
          ],
          "name": "stdout"
        },
        {
          "output_type": "stream",
          "text": [
            "\u001b[31m[jovian] Error: Colab File Id is not provided. Make sure to execute the cell where the Id is set.\u001b[0m\n"
          ],
          "name": "stderr"
        }
      ]
    },
    {
      "cell_type": "markdown",
      "metadata": {
        "id": "VTCipB5S9sGX"
      },
      "source": [
        "## Function 5 - stack\n",
        "\n",
        "stack is the genralised stacking command in which we can pass the dimenstion (axis) along which we want our tensors to be concatenated. "
      ]
    },
    {
      "cell_type": "code",
      "metadata": {
        "id": "54Uo032Y9sGX",
        "outputId": "75b84d34-916c-4fb2-9e13-6be427fd3c60",
        "colab": {
          "base_uri": "https://localhost:8080/"
        }
      },
      "source": [
        "# Example 1 - working\n",
        "arr = torch.stack((a1,a2,a3),dim=0)\n",
        "print(\"Array after stacking all three bands using hstack => \", arr.size())  \n",
        "print(arr) "
      ],
      "execution_count": 22,
      "outputs": [
        {
          "output_type": "stream",
          "text": [
            "Array after stacking all three bands using hstack =>  torch.Size([3, 9])\n",
            "tensor([[  1,   2,   3,   4,   5,   6,   7,   8,   9],\n",
            "        [101, 102, 103, 104, 105, 106, 107, 108, 109],\n",
            "        [201, 202, 203, 204, 205, 206, 207, 208, 209]])\n"
          ],
          "name": "stdout"
        }
      ]
    },
    {
      "cell_type": "markdown",
      "metadata": {
        "id": "cqMFjwRa9sGX"
      },
      "source": [
        "Explanation about example"
      ]
    },
    {
      "cell_type": "code",
      "metadata": {
        "id": "OYUZwEZI9sGX",
        "outputId": "60126356-8b75-4018-f363-8c4c845a66fd",
        "colab": {
          "base_uri": "https://localhost:8080/",
          "height": 742
        }
      },
      "source": [
        "# Example 2 - working\n",
        "arr = torch.stack((band1,band2,band3),dim=-3)\n",
        "print(\"Array after stacking all three bands using hstack => \", arr.size())\n",
        "print(arr)\n",
        "plt.figure(figsize=(10,10))\n",
        "plt.imshow(arr,cmap='gray')"
      ],
      "execution_count": 23,
      "outputs": [
        {
          "output_type": "stream",
          "text": [
            "Array after stacking all three bands using hstack =>  torch.Size([3, 4, 3])\n",
            "tensor([[[255,   0,   0],\n",
            "         [  0, 255,   0],\n",
            "         [  0,   0, 255],\n",
            "         [255, 255, 255]],\n",
            "\n",
            "        [[  0,   0, 255],\n",
            "         [  0, 255,   0],\n",
            "         [255,   0,   0],\n",
            "         [255, 255, 255]],\n",
            "\n",
            "        [[  0, 255,   0],\n",
            "         [  0, 255,   0],\n",
            "         [  0, 255,   0],\n",
            "         [255, 255, 255]]])\n"
          ],
          "name": "stdout"
        },
        {
          "output_type": "execute_result",
          "data": {
            "text/plain": [
              "<matplotlib.image.AxesImage at 0x7fc54113cf60>"
            ]
          },
          "metadata": {
            "tags": []
          },
          "execution_count": 23
        },
        {
          "output_type": "display_data",
          "data": {
            "image/png": "[encoded data removed]",
            "text/plain": [
              "<Figure size 720x720 with 1 Axes>"
            ]
          },
          "metadata": {
            "tags": [],
            "needs_background": "light"
          }
        }
      ]
    },
    {
      "cell_type": "markdown",
      "metadata": {
        "id": "TnqqU71h9sGX"
      },
      "source": [
        "Explanation about example"
      ]
    },
    {
      "cell_type": "code",
      "metadata": {
        "id": "or083Bmd9sGX",
        "outputId": "38abc1cd-f1e9-4163-c9e2-7baea3b274d5",
        "colab": {
          "base_uri": "https://localhost:8080/",
          "height": 215
        }
      },
      "source": [
        "# Example 3 - breaking (to illustrate when it breaks)\n",
        "arr = torch.stack((band1,band2,band3),dim=3)\n",
        "print(\"Array after stacking all three bands using hstack => \", arr.size())\n",
        "print(arr)"
      ],
      "execution_count": 24,
      "outputs": [
        {
          "output_type": "error",
          "ename": "IndexError",
          "evalue": "ignored",
          "traceback": [
            "\u001b[0;31m---------------------------------------------------------------------------\u001b[0m",
            "\u001b[0;31mIndexError\u001b[0m                                Traceback (most recent call last)",
            "\u001b[0;32m<ipython-input-24-84def0630f69>\u001b[0m in \u001b[0;36m<module>\u001b[0;34m()\u001b[0m\n\u001b[1;32m      1\u001b[0m \u001b[0;31m# Example 3 - breaking (to illustrate when it breaks)\u001b[0m\u001b[0;34m\u001b[0m\u001b[0;34m\u001b[0m\u001b[0;34m\u001b[0m\u001b[0m\n\u001b[0;32m----> 2\u001b[0;31m \u001b[0marr\u001b[0m \u001b[0;34m=\u001b[0m \u001b[0mtorch\u001b[0m\u001b[0;34m.\u001b[0m\u001b[0mstack\u001b[0m\u001b[0;34m(\u001b[0m\u001b[0;34m(\u001b[0m\u001b[0mband1\u001b[0m\u001b[0;34m,\u001b[0m\u001b[0mband2\u001b[0m\u001b[0;34m,\u001b[0m\u001b[0mband3\u001b[0m\u001b[0;34m)\u001b[0m\u001b[0;34m,\u001b[0m\u001b[0mdim\u001b[0m\u001b[0;34m=\u001b[0m\u001b[0;36m3\u001b[0m\u001b[0;34m)\u001b[0m\u001b[0;34m\u001b[0m\u001b[0;34m\u001b[0m\u001b[0m\n\u001b[0m\u001b[1;32m      3\u001b[0m \u001b[0mprint\u001b[0m\u001b[0;34m(\u001b[0m\u001b[0;34m\"Array after stacking all three bands using hstack => \"\u001b[0m\u001b[0;34m,\u001b[0m \u001b[0marr\u001b[0m\u001b[0;34m.\u001b[0m\u001b[0msize\u001b[0m\u001b[0;34m(\u001b[0m\u001b[0;34m)\u001b[0m\u001b[0;34m)\u001b[0m\u001b[0;34m\u001b[0m\u001b[0;34m\u001b[0m\u001b[0m\n\u001b[1;32m      4\u001b[0m \u001b[0mprint\u001b[0m\u001b[0;34m(\u001b[0m\u001b[0marr\u001b[0m\u001b[0;34m)\u001b[0m\u001b[0;34m\u001b[0m\u001b[0;34m\u001b[0m\u001b[0m\n",
            "\u001b[0;31mIndexError\u001b[0m: Dimension out of range (expected to be in range of [-3, 2], but got 3)"
          ]
        }
      ]
    },
    {
      "cell_type": "markdown",
      "metadata": {
        "id": "suTQkOVS9sGX"
      },
      "source": [
        "In the above example the dimension has been paased as 3 for a two dimention tensor, resulting into 'dimension out of range' ```IndexError```. So while using stack command the dimenstion need to be checked carefully. Also, look for the range provided for the stacking is $ [-3,2] $ for a two dimension tensor."
      ]
    },
    {
      "cell_type": "markdown",
      "metadata": {
        "id": "QSyAApTw9sGX"
      },
      "source": [
        "Stacking commands are very useful while working with the images as a color image is nothing but stacking of three bands 'Red', 'Green', and \"Blue'."
      ]
    },
    {
      "cell_type": "code",
      "metadata": {
        "id": "iUwnLom89sGX",
        "outputId": "8388dd71-941a-495a-de5a-ffc9d89a9134",
        "colab": {
          "base_uri": "https://localhost:8080/"
        }
      },
      "source": [
        "jovian.commit(project='01-tensor-operations')"
      ],
      "execution_count": 25,
      "outputs": [
        {
          "output_type": "stream",
          "text": [
            "[jovian] Detected Colab notebook...\u001b[0m\n"
          ],
          "name": "stdout"
        },
        {
          "output_type": "stream",
          "text": [
            "\u001b[31m[jovian] Error: Colab File Id is not provided. Make sure to execute the cell where the Id is set.\u001b[0m\n"
          ],
          "name": "stderr"
        }
      ]
    },
    {
      "cell_type": "markdown",
      "metadata": {
        "id": "zPszNCSn9sGY"
      },
      "source": [
        "## Conclusion\n",
        "\n",
        "This notebook has covererd some of the important tensor operations which will come handy while working with the images. We have seen examples of the following commands in the notebook: \n",
        "\n",
        "``` reshape, hstack, vstack, dstack, stack```"
      ]
    },
    {
      "cell_type": "markdown",
      "metadata": {
        "id": "m1PTdcOi9sGY"
      },
      "source": [
        "## Reference Links\n",
        "Provide links to your references and other interesting articles about tensors\n",
        "* Official documentation for tensor operations: https://pytorch.org/docs/stable/generated/torch.stack.html?highlight=stack\n",
        "* ..."
      ]
    },
    {
      "cell_type": "code",
      "metadata": {
        "id": "7nbbX4eZ9sGY",
        "outputId": "d385ce25-000e-4636-96bc-773a9b7e71fb",
        "colab": {
          "base_uri": "https://localhost:8080/"
        }
      },
      "source": [
        "jovian.commit(project='01-tensor-operations')"
      ],
      "execution_count": 26,
      "outputs": [
        {
          "output_type": "stream",
          "text": [
            "[jovian] Detected Colab notebook...\u001b[0m\n"
          ],
          "name": "stdout"
        },
        {
          "output_type": "stream",
          "text": [
            "\u001b[31m[jovian] Error: Colab File Id is not provided. Make sure to execute the cell where the Id is set.\u001b[0m\n"
          ],
          "name": "stderr"
        }
      ]
    },
    {
      "cell_type": "code",
      "metadata": {
        "id": "sb87Mgvq9sGY"
      },
      "source": [
        ""
      ],
      "execution_count": null,
      "outputs": []
    }
  ]
}